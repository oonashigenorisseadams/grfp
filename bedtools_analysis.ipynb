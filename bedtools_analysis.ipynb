{
 "cells": [
  {
   "cell_type": "markdown",
   "metadata": {},
   "source": [
    "### Bedtools Post Hoc Analysis"
   ]
  },
  {
   "cell_type": "code",
   "execution_count": 41,
   "metadata": {},
   "outputs": [],
   "source": [
    "import pandas as pd\n",
    "import math\n",
    "import scipy\n",
    "import numpy as np\n",
    "import pyranges as pr"
   ]
  },
  {
   "cell_type": "code",
   "execution_count": 42,
   "metadata": {},
   "outputs": [
    {
     "data": {
      "text/html": [
       "<div>\n",
       "<style scoped>\n",
       "    .dataframe tbody tr th:only-of-type {\n",
       "        vertical-align: middle;\n",
       "    }\n",
       "\n",
       "    .dataframe tbody tr th {\n",
       "        vertical-align: top;\n",
       "    }\n",
       "\n",
       "    .dataframe thead th {\n",
       "        text-align: right;\n",
       "    }\n",
       "</style>\n",
       "<table border=\"1\" class=\"dataframe\">\n",
       "  <thead>\n",
       "    <tr style=\"text-align: right;\">\n",
       "      <th></th>\n",
       "      <th>Chromosome</th>\n",
       "      <th>Start</th>\n",
       "      <th>End</th>\n",
       "      <th>Name</th>\n",
       "      <th>Score</th>\n",
       "      <th>Strand</th>\n",
       "      <th>ThickStart</th>\n",
       "    </tr>\n",
       "  </thead>\n",
       "  <tbody>\n",
       "    <tr>\n",
       "      <th>0</th>\n",
       "      <td>1</td>\n",
       "      <td>1725261</td>\n",
       "      <td>1986583</td>\n",
       "      <td>EUR</td>\n",
       "      <td>0.469411</td>\n",
       "      <td>8.010305</td>\n",
       "      <td>seg740857</td>\n",
       "    </tr>\n",
       "    <tr>\n",
       "      <th>1</th>\n",
       "      <td>1</td>\n",
       "      <td>1725261</td>\n",
       "      <td>1892043</td>\n",
       "      <td>EUR</td>\n",
       "      <td>0.469411</td>\n",
       "      <td>8.010305</td>\n",
       "      <td>seg740857</td>\n",
       "    </tr>\n",
       "    <tr>\n",
       "      <th>2</th>\n",
       "      <td>1</td>\n",
       "      <td>1105469</td>\n",
       "      <td>1225267</td>\n",
       "      <td>EUR</td>\n",
       "      <td>0.469411</td>\n",
       "      <td>8.010305</td>\n",
       "      <td>seg740857</td>\n",
       "    </tr>\n",
       "    <tr>\n",
       "      <th>3</th>\n",
       "      <td>1</td>\n",
       "      <td>2235378</td>\n",
       "      <td>2615407</td>\n",
       "      <td>EUR</td>\n",
       "      <td>0.469411</td>\n",
       "      <td>8.010305</td>\n",
       "      <td>seg740857</td>\n",
       "    </tr>\n",
       "    <tr>\n",
       "      <th>4</th>\n",
       "      <td>1</td>\n",
       "      <td>2245540</td>\n",
       "      <td>2803800</td>\n",
       "      <td>EUR</td>\n",
       "      <td>0.469411</td>\n",
       "      <td>8.010305</td>\n",
       "      <td>seg740857</td>\n",
       "    </tr>\n",
       "    <tr>\n",
       "      <th>...</th>\n",
       "      <td>...</td>\n",
       "      <td>...</td>\n",
       "      <td>...</td>\n",
       "      <td>...</td>\n",
       "      <td>...</td>\n",
       "      <td>...</td>\n",
       "      <td>...</td>\n",
       "    </tr>\n",
       "    <tr>\n",
       "      <th>13214</th>\n",
       "      <td>22</td>\n",
       "      <td>50115088</td>\n",
       "      <td>51219006</td>\n",
       "      <td>EUR</td>\n",
       "      <td>48.388895</td>\n",
       "      <td>75.116298</td>\n",
       "      <td>seg39449503</td>\n",
       "    </tr>\n",
       "    <tr>\n",
       "      <th>13215</th>\n",
       "      <td>22</td>\n",
       "      <td>40855145</td>\n",
       "      <td>42164108</td>\n",
       "      <td>EUR</td>\n",
       "      <td>48.388895</td>\n",
       "      <td>75.116298</td>\n",
       "      <td>seg39449503</td>\n",
       "    </tr>\n",
       "    <tr>\n",
       "      <th>13216</th>\n",
       "      <td>22</td>\n",
       "      <td>49880365</td>\n",
       "      <td>51219006</td>\n",
       "      <td>EUR</td>\n",
       "      <td>48.388895</td>\n",
       "      <td>75.116298</td>\n",
       "      <td>seg39449503</td>\n",
       "    </tr>\n",
       "    <tr>\n",
       "      <th>13217</th>\n",
       "      <td>22</td>\n",
       "      <td>39449503</td>\n",
       "      <td>44599923</td>\n",
       "      <td>EUR</td>\n",
       "      <td>48.388895</td>\n",
       "      <td>75.116298</td>\n",
       "      <td>seg39449503</td>\n",
       "    </tr>\n",
       "    <tr>\n",
       "      <th>13218</th>\n",
       "      <td>22</td>\n",
       "      <td>49839897</td>\n",
       "      <td>51219006</td>\n",
       "      <td>EUR</td>\n",
       "      <td>48.388895</td>\n",
       "      <td>75.116298</td>\n",
       "      <td>seg39449503</td>\n",
       "    </tr>\n",
       "  </tbody>\n",
       "</table>\n",
       "<p>13219 rows × 7 columns</p>\n",
       "</div>"
      ],
      "text/plain": [
       "       Chromosome     Start       End Name      Score     Strand   ThickStart\n",
       "0               1   1725261   1986583  EUR   0.469411   8.010305    seg740857\n",
       "1               1   1725261   1892043  EUR   0.469411   8.010305    seg740857\n",
       "2               1   1105469   1225267  EUR   0.469411   8.010305    seg740857\n",
       "3               1   2235378   2615407  EUR   0.469411   8.010305    seg740857\n",
       "4               1   2245540   2803800  EUR   0.469411   8.010305    seg740857\n",
       "...           ...       ...       ...  ...        ...        ...          ...\n",
       "13214          22  50115088  51219006  EUR  48.388895  75.116298  seg39449503\n",
       "13215          22  40855145  42164108  EUR  48.388895  75.116298  seg39449503\n",
       "13216          22  49880365  51219006  EUR  48.388895  75.116298  seg39449503\n",
       "13217          22  39449503  44599923  EUR  48.388895  75.116298  seg39449503\n",
       "13218          22  49839897  51219006  EUR  48.388895  75.116298  seg39449503\n",
       "\n",
       "[13219 rows x 7 columns]"
      ]
     },
     "execution_count": 42,
     "metadata": {},
     "output_type": "execute_result"
    }
   ],
   "source": [
    "df = pr.read_bed('all_bed/HG00551_intersect.bed', as_df=True)\n",
    "df"
   ]
  },
  {
   "cell_type": "code",
   "execution_count": 43,
   "metadata": {},
   "outputs": [],
   "source": [
    "ancestry = {'AFR': 0,'EUR': 1, 'NAT':3, 'UNK': 4}\n",
    "df.Name = [ancestry[item] for item in df.Name]"
   ]
  },
  {
   "cell_type": "code",
   "execution_count": 47,
   "metadata": {},
   "outputs": [],
   "source": [
    "df['ThickStart'] = df['ThickStart'].map(lambda x: x.lstrip('seg'))\n",
    "df['ThickStart'] = pd.to_numeric(df['ThickStart'])"
   ]
  },
  {
   "cell_type": "code",
   "execution_count": 49,
   "metadata": {},
   "outputs": [],
   "source": [
    "df['Ances_Switch'] = df['Name'].diff()\n",
    "df['IBD_Switch'] = df['ThickStart'].diff()"
   ]
  },
  {
   "cell_type": "code",
   "execution_count": 53,
   "metadata": {},
   "outputs": [
    {
     "ename": "ValueError",
     "evalue": "The truth value of a Series is ambiguous. Use a.empty, a.bool(), a.item(), a.any() or a.all().",
     "output_type": "error",
     "traceback": [
      "\u001b[0;31m---------------------------------------------------------------------------\u001b[0m",
      "\u001b[0;31mValueError\u001b[0m                                Traceback (most recent call last)",
      "\u001b[0;32m/tmp/ipykernel_473/1633064671.py\u001b[0m in \u001b[0;36m?\u001b[0;34m()\u001b[0m\n\u001b[0;32m----> 1\u001b[0;31m \u001b[0;32mif\u001b[0m \u001b[0;34m(\u001b[0m\u001b[0mdf\u001b[0m\u001b[0;34m[\u001b[0m\u001b[0;34m'Ances_Switch'\u001b[0m\u001b[0;34m]\u001b[0m \u001b[0;34m!=\u001b[0m \u001b[0;36m0\u001b[0m\u001b[0;34m)\u001b[0m \u001b[0;34m&\u001b[0m \u001b[0;34m(\u001b[0m\u001b[0mdf\u001b[0m\u001b[0;34m[\u001b[0m\u001b[0;34m'IBD_Switch'\u001b[0m\u001b[0;34m]\u001b[0m \u001b[0;34m==\u001b[0m \u001b[0;36m0\u001b[0m\u001b[0;34m)\u001b[0m\u001b[0;34m:\u001b[0m\u001b[0;34m\u001b[0m\u001b[0;34m\u001b[0m\u001b[0m\n\u001b[0m\u001b[1;32m      2\u001b[0m     \u001b[0mprint\u001b[0m\u001b[0;34m(\u001b[0m\u001b[0;34m'Chromosome: '\u001b[0m\u001b[0;34m,\u001b[0m \u001b[0mdf\u001b[0m\u001b[0;34m[\u001b[0m\u001b[0;34m'Chromosome'\u001b[0m\u001b[0;34m]\u001b[0m\u001b[0;34m,\u001b[0m \u001b[0;34m', Start: '\u001b[0m\u001b[0;34m,\u001b[0m \u001b[0mdf\u001b[0m\u001b[0;34m[\u001b[0m\u001b[0;34m'Start'\u001b[0m\u001b[0;34m]\u001b[0m\u001b[0;34m,\u001b[0m \u001b[0;34m', End: '\u001b[0m\u001b[0;34m,\u001b[0m \u001b[0mdf\u001b[0m\u001b[0;34m[\u001b[0m\u001b[0;34m'End'\u001b[0m\u001b[0;34m]\u001b[0m\u001b[0;34m,\u001b[0m \u001b[0;34m', Ancestry: '\u001b[0m\u001b[0;34m,\u001b[0m \u001b[0mdf\u001b[0m\u001b[0;34m[\u001b[0m\u001b[0;34m'Name'\u001b[0m\u001b[0;34m]\u001b[0m\u001b[0;34m)\u001b[0m\u001b[0;34m\u001b[0m\u001b[0;34m\u001b[0m\u001b[0m\n",
      "\u001b[0;32m~/.local/lib/python3.10/site-packages/pandas/core/generic.py\u001b[0m in \u001b[0;36m?\u001b[0;34m(self)\u001b[0m\n\u001b[1;32m   1517\u001b[0m     \u001b[0;34m@\u001b[0m\u001b[0mfinal\u001b[0m\u001b[0;34m\u001b[0m\u001b[0;34m\u001b[0m\u001b[0m\n\u001b[1;32m   1518\u001b[0m     \u001b[0;32mdef\u001b[0m \u001b[0m__nonzero__\u001b[0m\u001b[0;34m(\u001b[0m\u001b[0mself\u001b[0m\u001b[0;34m)\u001b[0m \u001b[0;34m->\u001b[0m \u001b[0mNoReturn\u001b[0m\u001b[0;34m:\u001b[0m\u001b[0;34m\u001b[0m\u001b[0;34m\u001b[0m\u001b[0m\n\u001b[0;32m-> 1519\u001b[0;31m         raise ValueError(\n\u001b[0m\u001b[1;32m   1520\u001b[0m             \u001b[0;34mf\"The truth value of a {type(self).__name__} is ambiguous. \"\u001b[0m\u001b[0;34m\u001b[0m\u001b[0;34m\u001b[0m\u001b[0m\n\u001b[1;32m   1521\u001b[0m             \u001b[0;34m\"Use a.empty, a.bool(), a.item(), a.any() or a.all().\"\u001b[0m\u001b[0;34m\u001b[0m\u001b[0;34m\u001b[0m\u001b[0m\n\u001b[1;32m   1522\u001b[0m         )\n",
      "\u001b[0;31mValueError\u001b[0m: The truth value of a Series is ambiguous. Use a.empty, a.bool(), a.item(), a.any() or a.all()."
     ]
    }
   ],
   "source": [
    "if (df['Ances_Switch'] != 0) & (df['IBD_Switch'] == 0):\n",
    "    print('Chromosome: ', df['Chromosome'], ', Start: ', df['Start'], ', End: ', df['End'], ', Ancestry: ', df['Name'])\n"
   ]
  },
  {
   "cell_type": "code",
   "execution_count": 54,
   "metadata": {},
   "outputs": [
    {
     "data": {
      "text/plain": [
       "0         True\n",
       "1        False\n",
       "2        False\n",
       "3        False\n",
       "4        False\n",
       "         ...  \n",
       "13214    False\n",
       "13215    False\n",
       "13216    False\n",
       "13217    False\n",
       "13218    False\n",
       "Name: Ances_Switch, Length: 13219, dtype: bool"
      ]
     },
     "execution_count": 54,
     "metadata": {},
     "output_type": "execute_result"
    }
   ],
   "source": [
    "df['Ances_Switch'] != 0"
   ]
  }
 ],
 "metadata": {
  "kernelspec": {
   "display_name": "Python 3",
   "language": "python",
   "name": "python3"
  },
  "language_info": {
   "codemirror_mode": {
    "name": "ipython",
    "version": 3
   },
   "file_extension": ".py",
   "mimetype": "text/x-python",
   "name": "python",
   "nbconvert_exporter": "python",
   "pygments_lexer": "ipython3",
   "version": "3.10.10"
  },
  "orig_nbformat": 4
 },
 "nbformat": 4,
 "nbformat_minor": 2
}
