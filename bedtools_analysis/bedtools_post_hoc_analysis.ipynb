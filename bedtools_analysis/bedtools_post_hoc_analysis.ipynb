{
 "cells": [
  {
   "cell_type": "markdown",
   "metadata": {},
   "source": [
    "# Bedtools Post Hoc Analysis"
   ]
  },
  {
   "cell_type": "code",
   "execution_count": 1,
   "metadata": {},
   "outputs": [],
   "source": [
    "# librariesss\n",
    "import pandas as pd\n",
    "import math\n",
    "import scipy\n",
    "import numpy as np\n",
    "import pyranges as pr\n",
    "import os\n",
    "import seaborn as sns\n",
    "import matplotlib.pyplot as plt\n",
    "import matplotlib.patches as mpatches"
   ]
  },
  {
   "cell_type": "code",
   "execution_count": 2,
   "metadata": {},
   "outputs": [],
   "source": [
    "# load in csv identifying individuals, set directory etc\n",
    "# data: 1000 Genomes on GRCh38,1000 Genomes 30x on GRCh38,Human Genome Structural Variation Consortium, Phase 3,1000 Genomes phase 3 release\n",
    "hg_pop = pd.read_csv('igsr_samples.csv')  \n",
    "d = pd.DataFrame()\n",
    "dir = '/home/oona/nsf_grfp/all_bed/intersect'"
   ]
  },
  {
   "cell_type": "code",
   "execution_count": 3,
   "metadata": {},
   "outputs": [],
   "source": [
    "# # make sure you're grouping by correct header\n",
    "# hg00551 = pr.read_bed('/home/oona/nsf_grfp/all_bed/intersect/HG00551_intersect.bed', as_df=True)\n",
    "# hg00551"
   ]
  },
  {
   "cell_type": "code",
   "execution_count": 4,
   "metadata": {},
   "outputs": [],
   "source": [
    "# for each file in intersection directory, count the number of ancestry groups per segment and add all to dataframe with HGNum IDs\n",
    "for bed_file in os.listdir(dir):\n",
    "    filename = os.path.join(dir, bed_file)\n",
    "    intersect = pr.read_bed(filename, as_df=True)\n",
    "    switch_cnt = intersect.groupby(['Name'])['ThickEnd'].count().reset_index(name='count')\n",
    "    switch_cnt['HGNum'] = os.path.basename(filename)\n",
    "    d = pd.concat([d, switch_cnt])"
   ]
  },
  {
   "cell_type": "code",
   "execution_count": 5,
   "metadata": {},
   "outputs": [],
   "source": [
    "# replace the _intersect.bed part of the file ID with nothing, only include rows w/switch count greater than one, compress file and save for reference\n",
    "d['HGNum'] = d['HGNum'].str.replace('_intersect.bed', '', regex=True)\n",
    "d = d[d['count'] > 1]\n",
    "\n",
    "# merge 1000 Genomes identifier csv w/switch count csv we just made to get nationalities, etc for plots\n",
    "hg_total = pd.merge(d, hg_pop, left_on='HGNum', right_on='Sample name')\n",
    "# hg_total.to_csv('switch_counts.zip', compression='gzip')"
   ]
  },
  {
   "cell_type": "code",
   "execution_count": 6,
   "metadata": {},
   "outputs": [],
   "source": [
    "ibd_seg_per_indiv = hg_total.groupby(['HGNum'])['Name'].count().reset_index(name='number of ibd segment intersects')\n",
    "switch_cnt_per_indiv = hg_total.groupby(['HGNum'])['count'].sum().reset_index(name='total ancestry switches')\n",
    "ibd_switch_per_indiv = pd.merge(ibd_seg_per_indiv, switch_cnt_per_indiv, left_on='HGNum', right_on='HGNum')\n",
    "indiv_df = pd.merge(ibd_switch_per_indiv, hg_total[['HGNum','Population code']], on='HGNum', how='left')\n",
    "indiv_df = indiv_df.drop_duplicates()"
   ]
  },
  {
   "cell_type": "markdown",
   "metadata": {},
   "source": [
    "### Making Table 1"
   ]
  },
  {
   "cell_type": "code",
   "execution_count": 7,
   "metadata": {},
   "outputs": [],
   "source": [
    "acb_df = indiv_df[indiv_df['Population code'] == 'ACB']\n",
    "asw_df = indiv_df[indiv_df['Population code'] == 'ASW']\n",
    "clm_df = indiv_df[indiv_df['Population code'] == 'CLM']\n",
    "mxl_df = indiv_df[indiv_df['Population code'] == 'MXL']\n",
    "pel_df = indiv_df[indiv_df['Population code'] == 'PEL']\n",
    "pur_df = indiv_df[indiv_df['Population code'] == 'PUR']"
   ]
  },
  {
   "cell_type": "code",
   "execution_count": 8,
   "metadata": {},
   "outputs": [
    {
     "data": {
      "text/plain": [
       "count      104.000000\n",
       "mean     12673.269231\n",
       "std        522.959395\n",
       "min      10322.000000\n",
       "25%      12527.500000\n",
       "50%      12695.500000\n",
       "75%      12989.250000\n",
       "max      13847.000000\n",
       "Name: total ancestry switches, dtype: float64"
      ]
     },
     "execution_count": 8,
     "metadata": {},
     "output_type": "execute_result"
    }
   ],
   "source": [
    "# pur_df['number of ibd segment intersects'].describe()\n",
    "pur_df['total ancestry switches'].describe()"
   ]
  },
  {
   "cell_type": "markdown",
   "metadata": {},
   "source": [
    "### Plotting"
   ]
  },
  {
   "cell_type": "code",
   "execution_count": 9,
   "metadata": {},
   "outputs": [],
   "source": [
    "orig_counts = indiv_df.groupby(['Population code'])['total ancestry switches'].sum().reset_index(name='count')"
   ]
  },
  {
   "cell_type": "code",
   "execution_count": 10,
   "metadata": {},
   "outputs": [
    {
     "data": {
      "text/html": [
       "<div>\n",
       "<style scoped>\n",
       "    .dataframe tbody tr th:only-of-type {\n",
       "        vertical-align: middle;\n",
       "    }\n",
       "\n",
       "    .dataframe tbody tr th {\n",
       "        vertical-align: top;\n",
       "    }\n",
       "\n",
       "    .dataframe thead th {\n",
       "        text-align: right;\n",
       "    }\n",
       "</style>\n",
       "<table border=\"1\" class=\"dataframe\">\n",
       "  <thead>\n",
       "    <tr style=\"text-align: right;\">\n",
       "      <th></th>\n",
       "      <th>Population code</th>\n",
       "      <th>count</th>\n",
       "    </tr>\n",
       "  </thead>\n",
       "  <tbody>\n",
       "    <tr>\n",
       "      <th>0</th>\n",
       "      <td>ACB</td>\n",
       "      <td>23826.0</td>\n",
       "    </tr>\n",
       "    <tr>\n",
       "      <th>1</th>\n",
       "      <td>ASW</td>\n",
       "      <td>10531.0</td>\n",
       "    </tr>\n",
       "    <tr>\n",
       "      <th>2</th>\n",
       "      <td>CLM</td>\n",
       "      <td>10913.0</td>\n",
       "    </tr>\n",
       "    <tr>\n",
       "      <th>3</th>\n",
       "      <td>MXL</td>\n",
       "      <td>5913.0</td>\n",
       "    </tr>\n",
       "    <tr>\n",
       "      <th>4</th>\n",
       "      <td>PEL</td>\n",
       "      <td>7358.0</td>\n",
       "    </tr>\n",
       "    <tr>\n",
       "      <th>5</th>\n",
       "      <td>PUR</td>\n",
       "      <td>12673.0</td>\n",
       "    </tr>\n",
       "  </tbody>\n",
       "</table>\n",
       "</div>"
      ],
      "text/plain": [
       "  Population code    count\n",
       "0             ACB  23826.0\n",
       "1             ASW  10531.0\n",
       "2             CLM  10913.0\n",
       "3             MXL   5913.0\n",
       "4             PEL   7358.0\n",
       "5             PUR  12673.0"
      ]
     },
     "execution_count": 10,
     "metadata": {},
     "output_type": "execute_result"
    }
   ],
   "source": [
    "population_counts = orig_counts\n",
    "pop_counts = [96, 61, 94, 64, 85, 104]\n",
    "population_counts['count'] = round(orig_counts['count'] / pop_counts)\n",
    "population_counts"
   ]
  },
  {
   "cell_type": "code",
   "execution_count": 56,
   "metadata": {},
   "outputs": [
    {
     "data": {
      "image/png": "[encoded data removed]",
      "text/plain": [
       "<Figure size 640x480 with 1 Axes>"
      ]
     },
     "metadata": {},
     "output_type": "display_data"
    }
   ],
   "source": [
    "# setting plot\n",
    "fig, ax = plt.subplots()\n",
    "my_colors = ['orange', 'red', 'green', 'blue', 'pink', 'purple']\n",
    "bars = ax.bar(population_counts['Population code'], population_counts['count'], color= my_colors)\n",
    "\n",
    "# adds counts to top of bar\n",
    "ax.bar_label(bars) \n",
    "ax.annotate(('n=96'), xy =(0, 0), xytext =(-0.25, 23000), textcoords='data', color='w', weight='bold')\n",
    "ax.annotate(('n=61'), xy =(0, 0), xytext =(0.75, 9500), textcoords='data', color='w', weight='bold') \n",
    "ax.annotate(('n=94'), xy =(0, 0), xytext =(1.75, 9900), textcoords='data', color='w', weight='bold')\n",
    "ax.annotate(('n=64'), xy =(0, 0), xytext =(2.75, 5000), textcoords='data', color='w', weight='bold')\n",
    "ax.annotate(('n=85'), xy =(0, 0), xytext =(3.75, 6500), textcoords='data', color='w', weight='bold') \n",
    "ax.annotate(('n=104'), xy =(0, 0), xytext =(4.68, 11700),textcoords='data', color='w', weight='bold') \n",
    "acb = mpatches.Patch(color='orange', label='African Caribbean')\n",
    "asw = mpatches.Patch(color='red', label='African Ancestry SW')\n",
    "clm = mpatches.Patch(color='green', label='Colombian')\n",
    "mxl = mpatches.Patch(color='blue', label='Mexican Ancestry')\n",
    "pel = mpatches.Patch(color='pink', label='Peruvian')\n",
    "pur = mpatches.Patch(color='purple', label='Puerto Rican')\n",
    "\n",
    "# legend and axes\n",
    "plt.legend(handles=[acb, asw, clm, mxl, pel, pur])\n",
    "plt.xlabel(\"Populations\")\n",
    "plt.ylabel(\"Mean Number of Ancestry Switches\")\n",
    "plt.savefig(\"/home/oona/nsf_grfp/figs/seaborn_switch_plot.png\")"
   ]
  },
  {
   "cell_type": "code",
   "execution_count": null,
   "metadata": {},
   "outputs": [],
   "source": []
  }
 ],
 "metadata": {
  "kernelspec": {
   "display_name": "Python 3",
   "language": "python",
   "name": "python3"
  },
  "language_info": {
   "codemirror_mode": {
    "name": "ipython",
    "version": 3
   },
   "file_extension": ".py",
   "mimetype": "text/x-python",
   "name": "python",
   "nbconvert_exporter": "python",
   "pygments_lexer": "ipython3",
   "version": "3.11.5"
  },
  "orig_nbformat": 4
 },
 "nbformat": 4,
 "nbformat_minor": 2
}
