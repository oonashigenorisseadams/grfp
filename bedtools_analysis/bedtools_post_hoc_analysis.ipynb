{
 "cells": [
  {
   "cell_type": "markdown",
   "metadata": {},
   "source": [
    "### Bedtools Post Hoc Analysis"
   ]
  },
  {
   "cell_type": "code",
   "execution_count": 74,
   "metadata": {},
   "outputs": [],
   "source": [
    "# librariesss\n",
    "import pandas as pd\n",
    "import math\n",
    "import scipy\n",
    "import numpy as np\n",
    "import pyranges as pr\n",
    "import os\n",
    "import seaborn as sns\n",
    "import matplotlib.pyplot as plt"
   ]
  },
  {
   "cell_type": "code",
   "execution_count": 75,
   "metadata": {},
   "outputs": [],
   "source": [
    "# load in csv identifying individuals, set directory etc\n",
    "hg_pop = pd.read_csv('igsr_samples.csv')  \n",
    "d = pd.DataFrame()\n",
    "dir = '/home/oona/nsf_grfp/all_bed/intersect'"
   ]
  },
  {
   "cell_type": "code",
   "execution_count": 76,
   "metadata": {},
   "outputs": [],
   "source": [
    "# for each file in intersection directory, count the number of ancestry groups per segment and add all to dataframe with HGNum IDs\n",
    "for bed_file in os.listdir(dir):\n",
    "    filename = os.path.join(dir, bed_file)\n",
    "    intersect = pr.read_bed(filename, as_df=True)\n",
    "    switch_cnt = intersect.groupby(['Name'])['ThickEnd'].count().reset_index(name='count')\n",
    "    # merged_df = pd.merge(intersect, switch_cnt, on=['Name', 'Name'], how='inner')\n",
    "    switch_cnt['HGNum'] = os.path.basename(filename)\n",
    "    d = pd.concat([d, switch_cnt])"
   ]
  },
  {
   "cell_type": "code",
   "execution_count": 77,
   "metadata": {},
   "outputs": [],
   "source": [
    "# replace the _intersect.bed part of the file ID with nothing, only include rows w/switch count greater than one, compress file and save for reference\n",
    "d['HGNum'] = d['HGNum'].str.replace('_intersect.bed', '', regex=True)\n",
    "d = d[d['count'] > 1]\n",
    "d.to_csv('switch_counts.zip', compression='gzip')"
   ]
  },
  {
   "cell_type": "code",
   "execution_count": 81,
   "metadata": {},
   "outputs": [],
   "source": [
    "# merge 1000 Genomes identifier csv w/switch count csv we just made to get nationalities, etc for plots\n",
    "hg_total = pd.merge(d, hg_pop, left_on='HGNum', right_on='Sample name')"
   ]
  },
  {
   "cell_type": "code",
   "execution_count": 107,
   "metadata": {},
   "outputs": [
    {
     "data": {
      "text/plain": [
       "Population code\n",
       "ACB    1034707\n",
       "ASW     303135\n",
       "CLM     449221\n",
       "MXL     174910\n",
       "PEL     283660\n",
       "PUR     564236\n",
       "Name: HGNum, dtype: int64"
      ]
     },
     "execution_count": 107,
     "metadata": {},
     "output_type": "execute_result"
    }
   ],
   "source": [
    "# get number of individuals we have overall and per population code (about 10 the bedtools intersection analysis didn't work)\n",
    "total_num_individuals = hg_total['HGNum'].nunique()\n",
    "hg_total.groupby(['Population code'])['HGNum'].count()"
   ]
  },
  {
   "cell_type": "code",
   "execution_count": 111,
   "metadata": {},
   "outputs": [],
   "source": [
    "# get approximate counts by dividing by number of individuals and rounding for now\n",
    "population_counts = hg_total.groupby(['Population code'])['count'].sum().reset_index(name='count')\n",
    "population_counts['count'] = round(population_counts['count'] / 504)"
   ]
  },
  {
   "cell_type": "code",
   "execution_count": 129,
   "metadata": {},
   "outputs": [
    {
     "data": {
      "image/png": "[encoded data removed]",
      "text/plain": [
       "<Figure size 640x480 with 1 Axes>"
      ]
     },
     "metadata": {},
     "output_type": "display_data"
    }
   ],
   "source": [
    "fig, ax = plt.subplots()\n",
    "my_colors = ['orange', 'red', 'green', 'blue', 'pink', 'purple']\n",
    "bars = ax.bar(population_counts['Population code'], population_counts['count'], color= my_colors)\n",
    "# adds counts to top of bar\n",
    "ax.bar_label(bars) \n",
    "plt.savefig(\"/home/oona/nsf_grfp/figs/seaborn_switch_plot.png\")"
   ]
  }
 ],
 "metadata": {
  "kernelspec": {
   "display_name": "Python 3",
   "language": "python",
   "name": "python3"
  },
  "language_info": {
   "codemirror_mode": {
    "name": "ipython",
    "version": 3
   },
   "file_extension": ".py",
   "mimetype": "text/x-python",
   "name": "python",
   "nbconvert_exporter": "python",
   "pygments_lexer": "ipython3",
   "version": "3.11.5"
  },
  "orig_nbformat": 4
 },
 "nbformat": 4,
 "nbformat_minor": 2
}
