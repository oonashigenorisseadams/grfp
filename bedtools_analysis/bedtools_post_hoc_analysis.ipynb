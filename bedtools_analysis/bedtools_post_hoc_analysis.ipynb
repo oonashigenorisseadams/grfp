{
 "cells": [
  {
   "cell_type": "markdown",
   "metadata": {},
   "source": [
    "### Bedtools Post Hoc Analysis"
   ]
  },
  {
   "cell_type": "code",
   "execution_count": 36,
   "metadata": {},
   "outputs": [],
   "source": [
    "import pandas as pd\n",
    "import math\n",
    "import scipy\n",
    "import numpy as np\n",
    "import pyranges as pr\n",
    "import os"
   ]
  },
  {
   "cell_type": "code",
   "execution_count": 40,
   "metadata": {},
   "outputs": [],
   "source": [
    "ancestry = {'AFR': 0,'EUR': 1, 'NAT':3, 'UNK': 4}\n",
    "appended_data = []\n",
    "\n",
    "for bed_file in os.listdir('/home/oona/nsf_grfp/all_bed/intersect'):\n",
    "    df = pr.read_bed('all_bed/HG00551_intersect.bed', as_df=True)\n",
    "    df.Name = [ancestry[item] for item in df.Name]\n",
    "    \n",
    "    df['file_name'] = os.path.basename(bed_file)\n",
    "    \n",
    "    df['ThickStart'] = df['ThickStart'].map(lambda x: x.lstrip('seg'))\n",
    "    df['ThickStart'] = pd.to_numeric(df['ThickStart'])  \n",
    "\n",
    "    # compute the difference based on shift, get points where ancestry switches and where ibd segments end\n",
    "    df['Ances_Switch'] = df['Name'].diff()\n",
    "    df['IBD_Switch'] = df['ThickStart'].diff()\n",
    "\n",
    "    # count the number of ancestry switches within a contained ibd segment\n",
    "    appended_data.append(df.query('Ances_Switch != 0 and IBD_Switch == 0'))\n",
    "\n",
    "appended_data = pd.concat(appended_data)\n",
    "appended_data.to_csv('switch_counts.csv', index=False)  "
   ]
  }
 ],
 "metadata": {
  "kernelspec": {
   "display_name": "Python 3",
   "language": "python",
   "name": "python3"
  },
  "language_info": {
   "codemirror_mode": {
    "name": "ipython",
    "version": 3
   },
   "file_extension": ".py",
   "mimetype": "text/x-python",
   "name": "python",
   "nbconvert_exporter": "python",
   "pygments_lexer": "ipython3",
   "version": "3.10.10"
  },
  "orig_nbformat": 4
 },
 "nbformat": 4,
 "nbformat_minor": 2
}
