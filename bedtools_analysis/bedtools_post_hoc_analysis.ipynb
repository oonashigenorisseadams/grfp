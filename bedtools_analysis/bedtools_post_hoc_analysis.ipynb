{
 "cells": [
  {
   "cell_type": "markdown",
   "metadata": {},
   "source": [
    "### Bedtools Post Hoc Analysis"
   ]
  },
  {
   "cell_type": "code",
   "execution_count": 189,
   "metadata": {},
   "outputs": [],
   "source": [
    "# librariesss\n",
    "import pandas as pd\n",
    "import math\n",
    "import scipy\n",
    "import numpy as np\n",
    "import pyranges as pr\n",
    "import os\n",
    "import seaborn as sns\n",
    "import matplotlib.pyplot as plt\n",
    "import matplotlib.patches as mpatches"
   ]
  },
  {
   "cell_type": "code",
   "execution_count": 169,
   "metadata": {},
   "outputs": [],
   "source": [
    "# load in csv identifying individuals, set directory etc\n",
    "hg_pop = pd.read_csv('igsr_samples.csv')  \n",
    "d = pd.DataFrame()\n",
    "dir = '/home/oona/nsf_grfp/all_bed/intersect'"
   ]
  },
  {
   "cell_type": "code",
   "execution_count": 170,
   "metadata": {},
   "outputs": [],
   "source": [
    "# for each file in intersection directory, count the number of ancestry groups per segment and add all to dataframe with HGNum IDs\n",
    "for bed_file in os.listdir(dir):\n",
    "    filename = os.path.join(dir, bed_file)\n",
    "    intersect = pr.read_bed(filename, as_df=True)\n",
    "    switch_cnt = intersect.groupby(['Name'])['ThickEnd'].count().reset_index(name='count')\n",
    "    # merged_df = pd.merge(intersect, switch_cnt, on=['Name', 'Name'], how='inner')\n",
    "    switch_cnt['HGNum'] = os.path.basename(filename)\n",
    "    d = pd.concat([d, switch_cnt])"
   ]
  },
  {
   "cell_type": "code",
   "execution_count": 171,
   "metadata": {},
   "outputs": [],
   "source": [
    "# replace the _intersect.bed part of the file ID with nothing, only include rows w/switch count greater than one, compress file and save for reference\n",
    "d['HGNum'] = d['HGNum'].str.replace('_intersect.bed', '', regex=True)\n",
    "d = d[d['count'] > 1]\n",
    "# d.to_csv('switch_counts.zip', compression='gzip')"
   ]
  },
  {
   "cell_type": "code",
   "execution_count": 172,
   "metadata": {},
   "outputs": [],
   "source": [
    "# merge 1000 Genomes identifier csv w/switch count csv we just made to get nationalities, etc for plots\n",
    "hg_total = pd.merge(d, hg_pop, left_on='HGNum', right_on='Sample name')"
   ]
  },
  {
   "cell_type": "code",
   "execution_count": 173,
   "metadata": {},
   "outputs": [
    {
     "data": {
      "text/plain": [
       "104"
      ]
     },
     "execution_count": 173,
     "metadata": {},
     "output_type": "execute_result"
    }
   ],
   "source": [
    "# get number of individuals we have overall and per population code (about 10 the bedtools intersection analysis didn't work)\n",
    "total_num_individuals = hg_total['HGNum'].nunique()\n",
    "pop_codes = ['ACB', 'ASW', 'CLM', 'MXL', 'PEL', 'PUR', 'UNK']\n",
    "hg_total[hg_total['Population code']  == pop_codes[5]]['HGNum'].nunique()"
   ]
  },
  {
   "cell_type": "code",
   "execution_count": 174,
   "metadata": {},
   "outputs": [
    {
     "data": {
      "text/html": [
       "<div>\n",
       "<style scoped>\n",
       "    .dataframe tbody tr th:only-of-type {\n",
       "        vertical-align: middle;\n",
       "    }\n",
       "\n",
       "    .dataframe tbody tr th {\n",
       "        vertical-align: top;\n",
       "    }\n",
       "\n",
       "    .dataframe thead th {\n",
       "        text-align: right;\n",
       "    }\n",
       "</style>\n",
       "<table border=\"1\" class=\"dataframe\">\n",
       "  <thead>\n",
       "    <tr style=\"text-align: right;\">\n",
       "      <th></th>\n",
       "      <th>Population code</th>\n",
       "      <th>count</th>\n",
       "    </tr>\n",
       "  </thead>\n",
       "  <tbody>\n",
       "    <tr>\n",
       "      <th>0</th>\n",
       "      <td>ACB</td>\n",
       "      <td>23826.0</td>\n",
       "    </tr>\n",
       "    <tr>\n",
       "      <th>1</th>\n",
       "      <td>ASW</td>\n",
       "      <td>10531.0</td>\n",
       "    </tr>\n",
       "    <tr>\n",
       "      <th>2</th>\n",
       "      <td>CLM</td>\n",
       "      <td>10913.0</td>\n",
       "    </tr>\n",
       "    <tr>\n",
       "      <th>3</th>\n",
       "      <td>MXL</td>\n",
       "      <td>5913.0</td>\n",
       "    </tr>\n",
       "    <tr>\n",
       "      <th>4</th>\n",
       "      <td>PEL</td>\n",
       "      <td>7358.0</td>\n",
       "    </tr>\n",
       "    <tr>\n",
       "      <th>5</th>\n",
       "      <td>PUR</td>\n",
       "      <td>12673.0</td>\n",
       "    </tr>\n",
       "  </tbody>\n",
       "</table>\n",
       "</div>"
      ],
      "text/plain": [
       "  Population code    count\n",
       "0             ACB  23826.0\n",
       "1             ASW  10531.0\n",
       "2             CLM  10913.0\n",
       "3             MXL   5913.0\n",
       "4             PEL   7358.0\n",
       "5             PUR  12673.0"
      ]
     },
     "execution_count": 174,
     "metadata": {},
     "output_type": "execute_result"
    }
   ],
   "source": [
    "# get approximate counts by dividing by number of individuals and rounding for now\n",
    "orig_counts = hg_total.groupby(['Population code'])['count'].sum().reset_index(name='count')\n",
    "population_counts = orig_counts\n",
    "population_counts['count'] = round(orig_counts['count'] / [96, 61, 94, 64, 85, 104])\n",
    "population_counts"
   ]
  },
  {
   "cell_type": "code",
   "execution_count": 175,
   "metadata": {},
   "outputs": [
    {
     "data": {
      "text/plain": [
       "10779"
      ]
     },
     "execution_count": 175,
     "metadata": {},
     "output_type": "execute_result"
    }
   ],
   "source": [
    "hg_total[hg_total['Sample name'] == 'HG01879']['Name'].nunique()"
   ]
  },
  {
   "cell_type": "code",
   "execution_count": 188,
   "metadata": {},
   "outputs": [
    {
     "data": {
      "image/png": "[encoded data removed]",
      "text/plain": [
       "<Figure size 640x480 with 1 Axes>"
      ]
     },
     "metadata": {},
     "output_type": "display_data"
    }
   ],
   "source": [
    "fig, ax = plt.subplots()\n",
    "my_colors = ['orange', 'red', 'green', 'blue', 'pink', 'purple']\n",
    "bars = ax.bar(population_counts['Population code'], population_counts['count'], color= my_colors)\n",
    "# adds counts to top of bar\n",
    "ax.bar_label(bars) \n",
    "acb = mpatches.Patch(color='orange', label='African Caribbean')\n",
    "asw = mpatches.Patch(color='red', label='African Ancestry SW')\n",
    "plt.legend(handles=[acb, asw])\n",
    "# plt.legend(['African Caribbean', 'African Ancestry SW', 'Colombian', 'Mexican Ancestry', 'Peruvian', 'Puerto Rican'], fontsize='x-small')\n",
    "plt.xlabel(\"Populations\")\n",
    "plt.ylabel(\"Mean Number of Ancestry Switches\")\n",
    "plt.savefig(\"/home/oona/nsf_grfp/figs/seaborn_switch_plot.png\")"
   ]
  }
 ],
 "metadata": {
  "kernelspec": {
   "display_name": "Python 3",
   "language": "python",
   "name": "python3"
  },
  "language_info": {
   "codemirror_mode": {
    "name": "ipython",
    "version": 3
   },
   "file_extension": ".py",
   "mimetype": "text/x-python",
   "name": "python",
   "nbconvert_exporter": "python",
   "pygments_lexer": "ipython3",
   "version": "3.11.5"
  },
  "orig_nbformat": 4
 },
 "nbformat": 4,
 "nbformat_minor": 2
}
